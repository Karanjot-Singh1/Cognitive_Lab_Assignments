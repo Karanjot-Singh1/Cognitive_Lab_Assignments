{
  "nbformat": 4,
  "nbformat_minor": 0,
  "metadata": {
    "colab": {
      "provenance": []
    },
    "kernelspec": {
      "name": "python3",
      "display_name": "Python 3"
    },
    "language_info": {
      "name": "python"
    }
  },
  "cells": [
    {
      "cell_type": "markdown",
      "source": [
        " **Name-Karanjot Singh**\n",
        "\n",
        "**Roll No.-102317275**\n",
        "\n",
        "**Subgroup- 2Q-11**"
      ],
      "metadata": {
        "id": "s0_68rjYe7DF"
      }
    },
    {
      "cell_type": "markdown",
      "source": [
        "1. Implement logistic regression on the Iris dataset."
      ],
      "metadata": {
        "id": "f69kjvldfMUz"
      }
    },
    {
      "cell_type": "code",
      "execution_count": null,
      "metadata": {
        "colab": {
          "base_uri": "https://localhost:8080/"
        },
        "id": "UT8bwBo1yRh5",
        "outputId": "fbfd0639-35f0-48e6-b869-4ca7afd6882f"
      },
      "outputs": [
        {
          "output_type": "stream",
          "name": "stdout",
          "text": [
            "Accuracy: 1.00\n",
            "Classification Report:\n",
            "               precision    recall  f1-score   support\n",
            "\n",
            "           0       1.00      1.00      1.00        10\n",
            "           1       1.00      1.00      1.00         9\n",
            "           2       1.00      1.00      1.00        11\n",
            "\n",
            "    accuracy                           1.00        30\n",
            "   macro avg       1.00      1.00      1.00        30\n",
            "weighted avg       1.00      1.00      1.00        30\n",
            "\n"
          ]
        }
      ],
      "source": [
        "from sklearn import datasets\n",
        "from sklearn.model_selection import train_test_split\n",
        "from sklearn.preprocessing import StandardScaler\n",
        "from sklearn.linear_model import LogisticRegression\n",
        "from sklearn.metrics import accuracy_score, classification_report\n",
        "iris=datasets.load_iris() #Loads the iris dataset\n",
        "x=iris.data\n",
        "y=iris.target #consists of sentosa, versicolor, virginica\n",
        "x_train,x_test,y_train,y_test=train_test_split(x,y,test_size=0.2,random_state=42) #80% training and 20% testing\n",
        "scaler=StandardScaler() #normalises the data\n",
        "x_train=scaler.fit_transform(x_train)\n",
        "x_test=scaler.transform(x_test)\n",
        "model=LogisticRegression(max_iter=200)\n",
        "model.fit(x_train,y_train)\n",
        "y_pred=model.predict(x_test) #prediciting the labels\n",
        "accuracy = accuracy_score(y_test, y_pred) #calculates the accuracy of predicitions\n",
        "\n",
        "print(f'Accuracy: {accuracy:.2f}')\n",
        "\n",
        "print('Classification Report:\\n', classification_report(y_test, y_pred))"
      ]
    }
  ]
}