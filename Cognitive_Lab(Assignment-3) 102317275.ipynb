{
  "metadata": {
    "kernelspec": {
      "name": "python",
      "display_name": "Python (Pyodide)",
      "language": "python"
    },
    "language_info": {
      "codemirror_mode": {
        "name": "python",
        "version": 3
      },
      "file_extension": ".py",
      "mimetype": "text/x-python",
      "name": "python",
      "nbconvert_exporter": "python",
      "pygments_lexer": "ipython3",
      "version": "3.8"
    }
  },
  "nbformat_minor": 5,
  "nbformat": 4,
  "cells": [
    {
      "id": "5e5b2151-fcf0-4f8c-be42-45ca61a015d5",
      "cell_type": "code",
      "source": "# Name - Karanjot Singh\n# Roll No. - 102317275\n# Subgroup - 2Q-11",
      "metadata": {
        "trusted": true
      },
      "outputs": [],
      "execution_count": 1
    },
    {
      "id": "9446ece4-f601-4180-9deb-836fae85c5fa",
      "cell_type": "code",
      "source": "# Q1. Create a dataset as follow in the table and print it \n\nimport pandas as pd #importing the pandas library\ndf = pd.read_csv(\"table.csv\") #reading the csv file\nprint(\"the content of the table is :\")\nprint()\nprint(df.to_string())",
      "metadata": {
        "trusted": true
      },
      "outputs": [
        {
          "name": "stdout",
          "output_type": "stream",
          "text": "the content of the table is :\n\n   Tid Refund Marital Status  Taxable Income Cheat\n0    1    Yes         Single          125000    No\n1    2     No        Married          100000    No\n2    3     No         Single           70000    No\n3    4    Yes        Married          120000    No\n4    5     No       Divorced           95000   Yes\n5    6     No        Married           60000    No\n6    7    Yes       Divorced          220000    No\n7    8     No         Single           85000   Yes\n8    9     No        Married           75000    No\n9   10     No         Single           90000   Yes\n"
        }
      ],
      "execution_count": 2
    },
    {
      "id": "0314b31f-6082-4235-b60f-3848acdfc308",
      "cell_type": "code",
      "source": "# Q.2 From the above table that you have created, locate row 0, 4, 7 and 8 using DataFrame.\n\nimport pandas as pd #importing the pandas library\ndf = pd.read_csv(\"table.csv\") #reading the csv file\nprint(\"the content of the table is :\")\nprint(df.to_string())\n\nprint()\n\nprint(\"printing the 0th row\")\nprint(df.loc[0])\nprint()\n\nprint(\"printing the 4th row\")\nprint(df.loc[4])\nprint()\n\nprint(\"printing the 7th row\")\nprint(df.loc[7])\nprint()\n\nprint(\"printing the 8th row\")\nprint(df.loc[8])\nprint()",
      "metadata": {
        "trusted": true
      },
      "outputs": [
        {
          "name": "stdout",
          "output_type": "stream",
          "text": "the content of the table is :\n   Tid Refund Marital Status  Taxable Income Cheat\n0    1    Yes         Single          125000    No\n1    2     No        Married          100000    No\n2    3     No         Single           70000    No\n3    4    Yes        Married          120000    No\n4    5     No       Divorced           95000   Yes\n5    6     No        Married           60000    No\n6    7    Yes       Divorced          220000    No\n7    8     No         Single           85000   Yes\n8    9     No        Married           75000    No\n9   10     No         Single           90000   Yes\n\nprinting the 0th row\nTid                    1\nRefund               Yes\nMarital Status    Single\nTaxable Income    125000\nCheat                 No\nName: 0, dtype: object\n\nprinting the 4th row\nTid                      5\nRefund                  No\nMarital Status    Divorced\nTaxable Income       95000\nCheat                  Yes\nName: 4, dtype: object\n\nprinting the 7th row\nTid                    8\nRefund                No\nMarital Status    Single\nTaxable Income     85000\nCheat                Yes\nName: 7, dtype: object\n\nprinting the 8th row\nTid                     9\nRefund                 No\nMarital Status    Married\nTaxable Income      75000\nCheat                  No\nName: 8, dtype: object\n\n"
        }
      ],
      "execution_count": 3
    },
    {
      "id": "6e084fe5-2ef4-4cc0-a30b-e15f87e4c54f",
      "cell_type": "code",
      "source": "# Q.3 Navigate the DataFrame and do the following task for the table created in question 1:\n# 1. Select row from index 3 to 7.\n# 2. Select row from index 4 to 8, and column 2 to 4.\n# 3. Select all rows with column index 1 to 3 (include index 3 during selection).\n\nimport pandas as pd\ndf = pd.read_csv(\"table.csv\")\nprint(\"the content of the table is :\")\nprint()\nprint(df.to_string())\n\nprint()\nprint(\"printing the row 3 to 6\")\nprint(df.iloc[3:7])\nprint()\n\nprint(\"printing the row 4 to 8 and coloumn 2 to 5\")\nprint(df.iloc[4:9,2:5])\nprint()\n\nprint(\"printing the all rows and coloumn 1 to 3\")\nprint(df.iloc[:,1:4])",
      "metadata": {
        "trusted": true
      },
      "outputs": [
        {
          "name": "stdout",
          "output_type": "stream",
          "text": "the content of the table is :\n\n   Tid Refund Marital Status  Taxable Income Cheat\n0    1    Yes         Single          125000    No\n1    2     No        Married          100000    No\n2    3     No         Single           70000    No\n3    4    Yes        Married          120000    No\n4    5     No       Divorced           95000   Yes\n5    6     No        Married           60000    No\n6    7    Yes       Divorced          220000    No\n7    8     No         Single           85000   Yes\n8    9     No        Married           75000    No\n9   10     No         Single           90000   Yes\n\nprinting the row 3 to 6\n   Tid Refund Marital Status  Taxable Income Cheat\n3    4    Yes        Married          120000    No\n4    5     No       Divorced           95000   Yes\n5    6     No        Married           60000    No\n6    7    Yes       Divorced          220000    No\n\nprinting the row 4 to 8 and coloumn 2 to 5\n  Marital Status  Taxable Income Cheat\n4       Divorced           95000   Yes\n5        Married           60000    No\n6       Divorced          220000    No\n7         Single           85000   Yes\n8        Married           75000    No\n\nprinting the all rows and coloumn 1 to 3\n  Refund Marital Status  Taxable Income\n0    Yes         Single          125000\n1     No        Married          100000\n2     No         Single           70000\n3    Yes        Married          120000\n4     No       Divorced           95000\n5     No        Married           60000\n6    Yes       Divorced          220000\n7     No         Single           85000\n8     No        Married           75000\n9     No         Single           90000\n"
        }
      ],
      "execution_count": 4
    },
    {
      "id": "66cbb3b5-2795-428d-a71b-9b65ec9ceee6",
      "cell_type": "code",
      "source": "#Q.4 Read a csv file and display its first five rows.\n\n\nimport pandas as pd\ndf = pd.read_csv(\"table.csv\")\nprint(\"the content of the table is :\")\nprint()\nprint(df.to_string())\nprint()\n\nprint(\"printing the first 5 rows\")\nprint()\nprint(df.head())",
      "metadata": {
        "trusted": true
      },
      "outputs": [
        {
          "name": "stdout",
          "output_type": "stream",
          "text": "the content of the table is :\n\n   Tid Refund Marital Status  Taxable Income Cheat\n0    1    Yes         Single          125000    No\n1    2     No        Married          100000    No\n2    3     No         Single           70000    No\n3    4    Yes        Married          120000    No\n4    5     No       Divorced           95000   Yes\n5    6     No        Married           60000    No\n6    7    Yes       Divorced          220000    No\n7    8     No         Single           85000   Yes\n8    9     No        Married           75000    No\n9   10     No         Single           90000   Yes\n\nprinting the first 5 rows\n\n   Tid Refund Marital Status  Taxable Income Cheat\n0    1    Yes         Single          125000    No\n1    2     No        Married          100000    No\n2    3     No         Single           70000    No\n3    4    Yes        Married          120000    No\n4    5     No       Divorced           95000   Yes\n"
        }
      ],
      "execution_count": 5
    },
    {
      "id": "179505c3-3648-47b7-8677-c7ee892b4226",
      "cell_type": "code",
      "source": "#Q.5 From the csv file (uploaded in the Q.4) delete row 4, and delete column 3. Display the result.\n\n\nimport pandas as pd\ndf = pd.read_csv(\"table.csv\")\nprint(\"the content of the table is :\")\nprint()\nprint(df.to_string())\nprint()\n\nprint(\"after deleting the 4 th row\")\nprint()\nprint(df.drop(4,axis=0,inplace=True))\nprint(df.to_string())\n\nprint()\nprint(\"after deleting the 3rd coloumn\")\nprint()\nprint(df.drop(df.columns[3],axis=1,inplace=True))\nprint(df.to_string())              ",
      "metadata": {
        "trusted": true
      },
      "outputs": [
        {
          "name": "stdout",
          "output_type": "stream",
          "text": "the content of the table is :\n\n   Tid Refund Marital Status  Taxable Income Cheat\n0    1    Yes         Single          125000    No\n1    2     No        Married          100000    No\n2    3     No         Single           70000    No\n3    4    Yes        Married          120000    No\n4    5     No       Divorced           95000   Yes\n5    6     No        Married           60000    No\n6    7    Yes       Divorced          220000    No\n7    8     No         Single           85000   Yes\n8    9     No        Married           75000    No\n9   10     No         Single           90000   Yes\n\nafter deleting the 4 th row\n\nNone\n   Tid Refund Marital Status  Taxable Income Cheat\n0    1    Yes         Single          125000    No\n1    2     No        Married          100000    No\n2    3     No         Single           70000    No\n3    4    Yes        Married          120000    No\n5    6     No        Married           60000    No\n6    7    Yes       Divorced          220000    No\n7    8     No         Single           85000   Yes\n8    9     No        Married           75000    No\n9   10     No         Single           90000   Yes\n\nafter deleting the 3rd coloumn\n\nNone\n   Tid Refund Marital Status Cheat\n0    1    Yes         Single    No\n1    2     No        Married    No\n2    3     No         Single    No\n3    4    Yes        Married    No\n5    6     No        Married    No\n6    7    Yes       Divorced    No\n7    8     No         Single   Yes\n8    9     No        Married    No\n9   10     No         Single   Yes\n"
        }
      ],
      "execution_count": 6
    },
    {
      "id": "60dd0729-6063-4241-b3ec-41de3d77a496",
      "cell_type": "code",
      "source": "# Q.6 Create a sample dataset (employees.csv) containing information about employees in\n# a company.\n# WAP to determine the following using dataset in Q6:\n# a) Shape (number of rows and columns) of the DataFrame.\n\nimport pandas as pd\ndf=pd.read_csv(\"employees.csv\")\nprint(\"the data in the csv file is :\")\nprint()\nprint(df.to_string())\n\nprint()\nrows,columns=df.shape\nprint(\"the number of rows are: \",rows)\nprint(\"the number of columns are: \",columns)\n",
      "metadata": {
        "trusted": true
      },
      "outputs": [
        {
          "name": "stdout",
          "output_type": "stream",
          "text": "the data in the csv file is :\n\n   Employee ID     Name Department  Age  Salary  Year_of_experience Joining Date  Gender  Bonus  Rating\n0          101    Alice         HR   29   50000                   4   15/03/2020  Female   5000     4.5\n1          102      Bob         IT   34   70000                   8   19/07/2017    Male   7000     4.0\n2          103  Charlie         IT   41   65000                  10   01/06/2013    Male   6000     3.8\n3          104    Diana  Marketing   28   55000                   3   10/02/2021  Female   4500     4.7\n4          105   Edward      Sales   38   60000                  12   25/11/2010    Male   5000     3.5\nthe number of rows are:  5\nthe number of columns are:  10\n"
        }
      ],
      "execution_count": 9
    },
    {
      "id": "d13ecf1e-888b-4eb5-8855-b3f01eafeec8",
      "cell_type": "code",
      "source": "# b) Summary of the DataFrame that includes the data types and non-null counts for each column.\n\nimport pandas as pd\ndf=pd.read_csv(\"employees.csv\")\nprint(\"the data in the csv file is :\")\nprint()\nprint(df.to_string())\nprint()\n\nprint(\"the summary of the data frame is: \")\nprint()\nprint(df.describe())\n",
      "metadata": {
        "trusted": true
      },
      "outputs": [
        {
          "name": "stdout",
          "output_type": "stream",
          "text": "the data in the csv file is :\n\n   Employee ID     Name Department  Age  Salary  Year_of_experience Joining Date  Gender  Bonus  Rating\n0          101    Alice         HR   29   50000                   4   15/03/2020  Female   5000     4.5\n1          102      Bob         IT   34   70000                   8   19/07/2017    Male   7000     4.0\n2          103  Charlie         IT   41   65000                  10   01/06/2013    Male   6000     3.8\n3          104    Diana  Marketing   28   55000                   3   10/02/2021  Female   4500     4.7\n4          105   Edward      Sales   38   60000                  12   25/11/2010    Male   5000     3.5\n\nthe summary of the data frame is: \n\n       Employee ID        Age       Salary  Year_of_experience   Bonus  \\\ncount     5.000000   5.000000      5.00000            5.000000     5.0   \nmean    103.000000  34.000000  60000.00000            7.400000  5500.0   \nstd       1.581139   5.612486   7905.69415            3.847077  1000.0   \nmin     101.000000  28.000000  50000.00000            3.000000  4500.0   \n25%     102.000000  29.000000  55000.00000            4.000000  5000.0   \n50%     103.000000  34.000000  60000.00000            8.000000  5000.0   \n75%     104.000000  38.000000  65000.00000           10.000000  6000.0   \nmax     105.000000  41.000000  70000.00000           12.000000  7000.0   \n\n         Rating  \ncount  5.000000  \nmean   4.100000  \nstd    0.494975  \nmin    3.500000  \n25%    3.800000  \n50%    4.000000  \n75%    4.500000  \nmax    4.700000  \n"
        }
      ],
      "execution_count": 11
    },
    {
      "id": "90fbaa8f-543c-4587-9d5c-9bf18ae7fdfc",
      "cell_type": "code",
      "source": "# c) Generate descriptive statistics.\n\nimport pandas as pd\ndf=pd.read_csv(\"employees.csv\")\nprint(\"the data in the csv file is :\")\nprint()\nprint(df.to_string())\nprint()\n\nprint(\"the descriptive statistics is: \")\nprint()\nprint(df.describe())\n",
      "metadata": {
        "trusted": true
      },
      "outputs": [
        {
          "name": "stdout",
          "output_type": "stream",
          "text": "the data in the csv file is :\n\n   Employee ID     Name Department  Age  Salary  Year_of_experience Joining Date  Gender  Bonus  Rating\n0          101    Alice         HR   29   50000                   4   15/03/2020  Female   5000     4.5\n1          102      Bob         IT   34   70000                   8   19/07/2017    Male   7000     4.0\n2          103  Charlie         IT   41   65000                  10   01/06/2013    Male   6000     3.8\n3          104    Diana  Marketing   28   55000                   3   10/02/2021  Female   4500     4.7\n4          105   Edward      Sales   38   60000                  12   25/11/2010    Male   5000     3.5\n\nthe descriptive statistics is: \n\n       Employee ID        Age       Salary  Year_of_experience   Bonus  \\\ncount     5.000000   5.000000      5.00000            5.000000     5.0   \nmean    103.000000  34.000000  60000.00000            7.400000  5500.0   \nstd       1.581139   5.612486   7905.69415            3.847077  1000.0   \nmin     101.000000  28.000000  50000.00000            3.000000  4500.0   \n25%     102.000000  29.000000  55000.00000            4.000000  5000.0   \n50%     103.000000  34.000000  60000.00000            8.000000  5000.0   \n75%     104.000000  38.000000  65000.00000           10.000000  6000.0   \nmax     105.000000  41.000000  70000.00000           12.000000  7000.0   \n\n         Rating  \ncount  5.000000  \nmean   4.100000  \nstd    0.494975  \nmin    3.500000  \n25%    3.800000  \n50%    4.000000  \n75%    4.500000  \nmax    4.700000  \n"
        }
      ],
      "execution_count": 12
    },
    {
      "id": "4cb54884-f10e-4b1a-b02c-7a14b0247448",
      "cell_type": "code",
      "source": "# d) Display the first 5 rows and last 3 rows of the dataset.\n\nimport pandas as pd\ndf=pd.read_csv(\"employees.csv\")\nprint(\"the data in the csv file is :\")\nprint()\nprint(df.to_string())\nprint()\n\nprint(\"Displaying the first 5 rows\")\nprint()\nprint(df.head(5))\nprint()\n\nprint(\"Displaying the last 3 rows\")\nprint()\nprint(df.tail(3))",
      "metadata": {
        "trusted": true
      },
      "outputs": [
        {
          "name": "stdout",
          "output_type": "stream",
          "text": "the data in the csv file is :\n\n   Employee ID     Name Department  Age  Salary  Year_of_experience Joining Date  Gender  Bonus  Rating\n0          101    Alice         HR   29   50000                   4   15/03/2020  Female   5000     4.5\n1          102      Bob         IT   34   70000                   8   19/07/2017    Male   7000     4.0\n2          103  Charlie         IT   41   65000                  10   01/06/2013    Male   6000     3.8\n3          104    Diana  Marketing   28   55000                   3   10/02/2021  Female   4500     4.7\n4          105   Edward      Sales   38   60000                  12   25/11/2010    Male   5000     3.5\n\nDisplaying the first 5 rows\n\n   Employee ID     Name Department  Age  Salary  Year_of_experience  \\\n0          101    Alice         HR   29   50000                   4   \n1          102      Bob         IT   34   70000                   8   \n2          103  Charlie         IT   41   65000                  10   \n3          104    Diana  Marketing   28   55000                   3   \n4          105   Edward      Sales   38   60000                  12   \n\n  Joining Date  Gender  Bonus  Rating  \n0   15/03/2020  Female   5000     4.5  \n1   19/07/2017    Male   7000     4.0  \n2   01/06/2013    Male   6000     3.8  \n3   10/02/2021  Female   4500     4.7  \n4   25/11/2010    Male   5000     3.5  \n\nDisplaying the last 3 rows\n\n   Employee ID     Name Department  Age  Salary  Year_of_experience  \\\n2          103  Charlie         IT   41   65000                  10   \n3          104    Diana  Marketing   28   55000                   3   \n4          105   Edward      Sales   38   60000                  12   \n\n  Joining Date  Gender  Bonus  Rating  \n2   01/06/2013    Male   6000     3.8  \n3   10/02/2021  Female   4500     4.7  \n4   25/11/2010    Male   5000     3.5  \n"
        }
      ],
      "execution_count": 13
    },
    {
      "id": "4c9e066e-3287-4f01-9755-7b2ac6240d8f",
      "cell_type": "code",
      "source": "#e) Calculate the following statistics from the dataset:\n# i. The average salary of employees.\n# ii. The total bonus paid to all employees.\n# iii. The youngest employee's age.\n# iv. The highest performance rating\n\n\nimport pandas as pd\ndf=pd.read_csv(\"employees.csv\")\nprint(\"the data in the csv file is :\")\nprint()\nprint(df.to_string())\nprint()\n\naverage_salary = df[\"Salary\"].mean()\ntotal_bonus = df[\"Bonus\"].sum()\nyoungest_age = df[\"Age\"].min()\nhighest_rating = df[\"Rating\"].max()\nprint(\"The average salary of employees: \",average_salary)\nprint(\"The total bonus paid to all employees: \", total_bonus)\nprint(\"The youngest employee's age: \",youngest_age)\nprint(\"The highest performance rating: \" ,highest_rating)",
      "metadata": {
        "trusted": true
      },
      "outputs": [
        {
          "name": "stdout",
          "output_type": "stream",
          "text": "the data in the csv file is :\n\n   Employee ID     Name Department  Age  Salary  Year_of_experience Joining Date  Gender  Bonus  Rating\n0          101    Alice         HR   29   50000                   4   15/03/2020  Female   5000     4.5\n1          102      Bob         IT   34   70000                   8   19/07/2017    Male   7000     4.0\n2          103  Charlie         IT   41   65000                  10   01/06/2013    Male   6000     3.8\n3          104    Diana  Marketing   28   55000                   3   10/02/2021  Female   4500     4.7\n4          105   Edward      Sales   38   60000                  12   25/11/2010    Male   5000     3.5\n\nThe average salary of employees:  60000.0\nThe total bonus paid to all employees:  27500\nThe youngest employee's age:  28\nThe highest performance rating:  4.7\n"
        }
      ],
      "execution_count": 16
    },
    {
      "id": "7f7d5d82-1036-4fca-8fb6-eb25eb28ff31",
      "cell_type": "code",
      "source": "#f) Sort the DataFrame by the Salary column in descending order.\n\n\nimport pandas as pd\ndf=pd.read_csv(\"employees.csv\")\nprint(\"the data in the csv file is :\")\nprint()\nprint(df.to_string())\nprint()\n\nsorted_df = df.sort_values(by=\"Salary\", ascending=False)\nprint(\"the sorted data frame is : \")\nprint(sorted_df)",
      "metadata": {
        "trusted": true
      },
      "outputs": [
        {
          "name": "stdout",
          "output_type": "stream",
          "text": "the data in the csv file is :\n\n   Employee ID     Name Department  Age  Salary  Year_of_experience Joining Date  Gender  Bonus  Rating\n0          101    Alice         HR   29   50000                   4   15/03/2020  Female   5000     4.5\n1          102      Bob         IT   34   70000                   8   19/07/2017    Male   7000     4.0\n2          103  Charlie         IT   41   65000                  10   01/06/2013    Male   6000     3.8\n3          104    Diana  Marketing   28   55000                   3   10/02/2021  Female   4500     4.7\n4          105   Edward      Sales   38   60000                  12   25/11/2010    Male   5000     3.5\n\nthe sorted data frame is : \n   Employee ID     Name Department  Age  Salary  Year_of_experience  \\\n1          102      Bob         IT   34   70000                   8   \n2          103  Charlie         IT   41   65000                  10   \n4          105   Edward      Sales   38   60000                  12   \n3          104    Diana  Marketing   28   55000                   3   \n0          101    Alice         HR   29   50000                   4   \n\n  Joining Date  Gender  Bonus  Rating  \n1   19/07/2017    Male   7000     4.0  \n2   01/06/2013    Male   6000     3.8  \n4   25/11/2010    Male   5000     3.5  \n3   10/02/2021  Female   4500     4.7  \n0   15/03/2020  Female   5000     4.5  \n"
        }
      ],
      "execution_count": 17
    },
    {
      "id": "4742573b-181d-4ceb-9843-7a43291d0a20",
      "cell_type": "code",
      "source": "# g) Add a new column that categorizes employees based on their performance rating:\n# i. Excellent for ratings >= 4.5\n# ii. Good for ratings >= 4.0 but < 4.5\n# iii. Average for ratings < 4.0\n\n\ndef performance(rating):\n    if rating >= 4.5:\n        return \"Excellent\"\n    elif 4.0 <= rating < 4.5:\n        return \"Good\"\n    else:\n        return \"Average\"\n\nimport pandas as pd\ndf=pd.read_csv(\"employees.csv\")\nprint(\"the data in the csv file is :\")\nprint()\nprint(df.to_string())\nprint()\n\n\ndf[\"Performance\"] = df[\"Rating\"].apply(performance)\n\nprint(\"printing the updated data frame\")\nprint(df)",
      "metadata": {
        "trusted": true
      },
      "outputs": [
        {
          "name": "stdout",
          "output_type": "stream",
          "text": "the data in the csv file is :\n\n   Employee ID     Name Department  Age  Salary  Year_of_experience Joining Date  Gender  Bonus  Rating\n0          101    Alice         HR   29   50000                   4   15/03/2020  Female   5000     4.5\n1          102      Bob         IT   34   70000                   8   19/07/2017    Male   7000     4.0\n2          103  Charlie         IT   41   65000                  10   01/06/2013    Male   6000     3.8\n3          104    Diana  Marketing   28   55000                   3   10/02/2021  Female   4500     4.7\n4          105   Edward      Sales   38   60000                  12   25/11/2010    Male   5000     3.5\n\nprinting the updated data frame\n   Employee ID     Name Department  Age  Salary  Year_of_experience  \\\n0          101    Alice         HR   29   50000                   4   \n1          102      Bob         IT   34   70000                   8   \n2          103  Charlie         IT   41   65000                  10   \n3          104    Diana  Marketing   28   55000                   3   \n4          105   Edward      Sales   38   60000                  12   \n\n  Joining Date  Gender  Bonus  Rating Performance  \n0   15/03/2020  Female   5000     4.5   Excellent  \n1   19/07/2017    Male   7000     4.0        Good  \n2   01/06/2013    Male   6000     3.8     Average  \n3   10/02/2021  Female   4500     4.7   Excellent  \n4   25/11/2010    Male   5000     3.5     Average  \n"
        }
      ],
      "execution_count": 18
    },
    {
      "id": "ed5a9594-3df5-431c-8d3e-47135109b025",
      "cell_type": "code",
      "source": "# h) Identify missing values in the DataFrame.\n\n\nimport pandas as pd\ndf=pd.read_csv(\"employees.csv\")\nprint(\"the data in the csv file is :\")\nprint()\nprint(df.to_string())\nprint()\n\nmiss = df.isnull()\n\nprint(\"missing Values are:\")\nprint(miss)",
      "metadata": {
        "trusted": true
      },
      "outputs": [
        {
          "name": "stdout",
          "output_type": "stream",
          "text": "the data in the csv file is :\n\n   Employee ID     Name Department  Age  Salary  Year_of_experience Joining Date  Gender  Bonus  Rating\n0          101    Alice         HR   29   50000                   4   15/03/2020  Female   5000     4.5\n1          102      Bob         IT   34   70000                   8   19/07/2017    Male   7000     4.0\n2          103  Charlie         IT   41   65000                  10   01/06/2013    Male   6000     3.8\n3          104    Diana  Marketing   28   55000                   3   10/02/2021  Female   4500     4.7\n4          105   Edward      Sales   38   60000                  12   25/11/2010    Male   5000     3.5\n\nmissing Values are:\n   Employee ID   Name  Department    Age  Salary  Year_of_experience  \\\n0        False  False       False  False   False               False   \n1        False  False       False  False   False               False   \n2        False  False       False  False   False               False   \n3        False  False       False  False   False               False   \n4        False  False       False  False   False               False   \n\n   Joining Date  Gender  Bonus  Rating  \n0         False   False  False   False  \n1         False   False  False   False  \n2         False   False  False   False  \n3         False   False  False   False  \n4         False   False  False   False  \n"
        }
      ],
      "execution_count": 19
    },
    {
      "id": "ce6b31bf-86d1-45cc-adee-baaf1affd0c1",
      "cell_type": "code",
      "source": "# i) Rename the Employee_ID column to ID.\n\n\nimport pandas as pd\ndf=pd.read_csv(\"employees.csv\")\nprint(\"the data in the csv file is :\")\nprint()\nprint(df.to_string())\nprint()\n\ndf = df.rename(columns={\"Employee ID\": \"ID\"})\nprint(\"the new data frame is \")\nprint(df)",
      "metadata": {
        "trusted": true
      },
      "outputs": [
        {
          "name": "stdout",
          "output_type": "stream",
          "text": "the data in the csv file is :\n\n   Employee ID     Name Department  Age  Salary  Year_of_experience Joining Date  Gender  Bonus  Rating\n0          101    Alice         HR   29   50000                   4   15/03/2020  Female   5000     4.5\n1          102      Bob         IT   34   70000                   8   19/07/2017    Male   7000     4.0\n2          103  Charlie         IT   41   65000                  10   01/06/2013    Male   6000     3.8\n3          104    Diana  Marketing   28   55000                   3   10/02/2021  Female   4500     4.7\n4          105   Edward      Sales   38   60000                  12   25/11/2010    Male   5000     3.5\n\nthe new data frame is \n    ID     Name Department  Age  Salary  Year_of_experience Joining Date  \\\n0  101    Alice         HR   29   50000                   4   15/03/2020   \n1  102      Bob         IT   34   70000                   8   19/07/2017   \n2  103  Charlie         IT   41   65000                  10   01/06/2013   \n3  104    Diana  Marketing   28   55000                   3   10/02/2021   \n4  105   Edward      Sales   38   60000                  12   25/11/2010   \n\n   Gender  Bonus  Rating  \n0  Female   5000     4.5  \n1    Male   7000     4.0  \n2    Male   6000     3.8  \n3  Female   4500     4.7  \n4    Male   5000     3.5  \n"
        }
      ],
      "execution_count": 21
    },
    {
      "id": "79842581-e64d-4d75-913e-124e747529dc",
      "cell_type": "code",
      "source": "# j) Find all employees who:\n# i. Have more than 5 years of experience.\n# ii. Belong to the IT department.\n\n\nimport pandas as pd\ndf=pd.read_csv(\"employees.csv\")\nprint(\"the data in the csv file is :\")\nprint()\nprint(df.to_string())\nprint()\n\nee = df[df[\"Year_of_experience\"] > 5]\nit_e = df[df[\"Department\"] == \"IT\"]\nprint(\"employees more than 5 years of experience are:\")\nprint()\nprint(ee)\nprint(\"employees of IT department:\")\nprint()\nprint(it_e)",
      "metadata": {
        "trusted": true
      },
      "outputs": [
        {
          "name": "stdout",
          "output_type": "stream",
          "text": "the data in the csv file is :\n\n   Employee ID     Name Department  Age  Salary  Year_of_experience Joining Date  Gender  Bonus  Rating\n0          101    Alice         HR   29   50000                   4   15/03/2020  Female   5000     4.5\n1          102      Bob         IT   34   70000                   8   19/07/2017    Male   7000     4.0\n2          103  Charlie         IT   41   65000                  10   01/06/2013    Male   6000     3.8\n3          104    Diana  Marketing   28   55000                   3   10/02/2021  Female   4500     4.7\n4          105   Edward      Sales   38   60000                  12   25/11/2010    Male   5000     3.5\n\nemployees more than 5 years of experience are:\n\n   Employee ID     Name Department  Age  Salary  Year_of_experience  \\\n1          102      Bob         IT   34   70000                   8   \n2          103  Charlie         IT   41   65000                  10   \n4          105   Edward      Sales   38   60000                  12   \n\n  Joining Date Gender  Bonus  Rating  \n1   19/07/2017   Male   7000     4.0  \n2   01/06/2013   Male   6000     3.8  \n4   25/11/2010   Male   5000     3.5  \nemployees of IT department:\n\n   Employee ID     Name Department  Age  Salary  Year_of_experience  \\\n1          102      Bob         IT   34   70000                   8   \n2          103  Charlie         IT   41   65000                  10   \n\n  Joining Date Gender  Bonus  Rating  \n1   19/07/2017   Male   7000     4.0  \n2   01/06/2013   Male   6000     3.8  \n"
        }
      ],
      "execution_count": 23
    },
    {
      "id": "5123c63c-76d9-415f-ad51-bf252eb3d589",
      "cell_type": "code",
      "source": "# k) Modify the dataset by adding a new column, Tax, which deducts 10% of the\n# Salary.\n# l) Save the modified DataFrame (with added columns) to a new CSV file.\n\n\nimport pandas as pd\ndf=pd.read_csv(\"employees.csv\")\nprint(\"the data in the csv file is :\")\nprint()\nprint(df.to_string())\nprint()\n\n\ndf[\"Tax\"] = df[\"Salary\"] * 0.10\nprint(\"now the data in the csv file is :\")\nprint()\nprint(df.to_string())\nprint()\n\n\n\n",
      "metadata": {
        "trusted": true
      },
      "outputs": [
        {
          "name": "stdout",
          "output_type": "stream",
          "text": "the data in the csv file is :\n\n   Employee ID     Name Department  Age  Salary  Year_of_experience Joining Date  Gender  Bonus  Rating\n0          101    Alice         HR   29   50000                   4   15/03/2020  Female   5000     4.5\n1          102      Bob         IT   34   70000                   8   19/07/2017    Male   7000     4.0\n2          103  Charlie         IT   41   65000                  10   01/06/2013    Male   6000     3.8\n3          104    Diana  Marketing   28   55000                   3   10/02/2021  Female   4500     4.7\n4          105   Edward      Sales   38   60000                  12   25/11/2010    Male   5000     3.5\n\nnow the data in the csv file is :\n\n   Employee ID     Name Department  Age  Salary  Year_of_experience Joining Date  Gender  Bonus  Rating     Tax\n0          101    Alice         HR   29   50000                   4   15/03/2020  Female   5000     4.5  5000.0\n1          102      Bob         IT   34   70000                   8   19/07/2017    Male   7000     4.0  7000.0\n2          103  Charlie         IT   41   65000                  10   01/06/2013    Male   6000     3.8  6500.0\n3          104    Diana  Marketing   28   55000                   3   10/02/2021  Female   4500     4.7  5500.0\n4          105   Edward      Sales   38   60000                  12   25/11/2010    Male   5000     3.5  6000.0\n\n"
        }
      ],
      "execution_count": 1
    },
    {
      "id": "8b7a7883-eb3f-46b3-93ef-c019f916e5e3",
      "cell_type": "code",
      "source": "# l) : Save the modified DataFrame to a new CSV file\n\nimport pandas as pd\ndf=pd.read_csv(\"employees.csv\")\nprint(\"the data in the csv file is :\")\nprint()\nprint(df.to_string())\nprint()\n\nmodified_csv_path = \"modified_employees.csv\"\ndf.to_csv(modified_csv_path, index=False)\n\nprint(f\"Modified DataFrame saved to {modified_csv_path}\")",
      "metadata": {
        "trusted": true
      },
      "outputs": [
        {
          "name": "stdout",
          "output_type": "stream",
          "text": "the data in the csv file is :\n\n   Employee ID     Name Department  Age  Salary  Year_of_experience Joining Date  Gender  Bonus  Rating\n0          101    Alice         HR   29   50000                   4   15/03/2020  Female   5000     4.5\n1          102      Bob         IT   34   70000                   8   19/07/2017    Male   7000     4.0\n2          103  Charlie         IT   41   65000                  10   01/06/2013    Male   6000     3.8\n3          104    Diana  Marketing   28   55000                   3   10/02/2021  Female   4500     4.7\n4          105   Edward      Sales   38   60000                  12   25/11/2010    Male   5000     3.5\n\nModified DataFrame saved to modified_employees.csv\n"
        }
      ],
      "execution_count": 2
    },
    {
      "id": "3163c0a3-db96-47cf-a132-831c45c954a0",
      "cell_type": "code",
      "source": "",
      "metadata": {
        "trusted": true
      },
      "outputs": [],
      "execution_count": null
    }
  ]
}